{
  "nbformat": 4,
  "nbformat_minor": 0,
  "metadata": {
    "colab": {
      "name": "Sentiment analysis.ipynb",
      "provenance": [],
      "collapsed_sections": []
    },
    "kernelspec": {
      "name": "python3",
      "display_name": "Python 3"
    },
    "accelerator": "GPU"
  },
  "cells": [
    {
      "cell_type": "markdown",
      "metadata": {
        "id": "QzkjFL9n7is-"
      },
      "source": [
        "Sentiment Analysis\n"
      ]
    },
    {
      "cell_type": "code",
      "metadata": {
        "id": "BkOSavIUJEJa"
      },
      "source": [
        "\n",
        "# Code to read csv file into Colaboratory:\n",
        "#!pip install -U -q PyDrive\n",
        "from pydrive.auth import GoogleAuth\n",
        "from pydrive.drive import GoogleDrive\n",
        "from google.colab import auth\n",
        "from oauth2client.client import GoogleCredentials\n",
        "# Authenticate and create the PyDrive client.\n",
        "auth.authenticate_user()\n",
        "gauth = GoogleAuth()\n",
        "gauth.credentials = GoogleCredentials.get_application_default()\n",
        "drive = GoogleDrive(gauth)\n",
        "\n",
        "link = 'https://drive.google.com/open?id=1d4n-igWZBpmOs_VixvaBlUcc0vn91sO6'\n",
        "fluff, id = link.split('=')\n",
        "downloaded = drive.CreateFile({'id':id}) \n",
        "downloaded.GetContentFile('train_sentences_100k.txt')\n",
        "\n",
        "link2 = 'https://drive.google.com/open?id=10rFNeOcSCEQFIvLt2FpXgLO9pNdsxrBc'\n",
        "fluff2, id2 = link2.split('=')\n",
        "downloaded2 = drive.CreateFile({'id':id2}) \n",
        "downloaded2.GetContentFile('amazon_cells_labelled.txt')\n"
      ],
      "execution_count": null,
      "outputs": []
    },
    {
      "cell_type": "markdown",
      "metadata": {
        "id": "YbwHUZXS-3Zd"
      },
      "source": [
        "This first code is basically just the provided data loading code with some slight modifications, in that I will tensorize the data myself"
      ]
    },
    {
      "cell_type": "code",
      "metadata": {
        "id": "9BAmwoZf_K3Q",
        "outputId": "d14c1aca-9c08-4d42-a24b-016355bbcc90",
        "colab": {
          "base_uri": "https://localhost:8080/",
          "height": 899
        }
      },
      "source": [
        "import torch\n",
        "import torch.nn as nn\n",
        "import torch.optim as optim\n",
        "import torch.nn.functional as F\n",
        "from torch.utils.data import TensorDataset, DataLoader, Dataset\n",
        "import numpy as np\n",
        "import nltk\n",
        "nltk.download(\"popular\")\n",
        "from matplotlib import pyplot\n",
        "import pandas as pd\n",
        "from sklearn.model_selection import train_test_split\n",
        "from sklearn.feature_extraction.text import TfidfVectorizer\n",
        "from nltk.corpus import stopwords\n",
        "from nltk import word_tokenize\n",
        "from sklearn.metrics import accuracy_score, confusion_matrix, precision_score, recall_score, classification_report\n",
        "import os\n",
        "\n",
        "def preprocess_pandas(data, columns):\n",
        "    df_ = pd.DataFrame(columns=columns)\n",
        "    data['Sentence'] = data['Sentence'].str.lower()\n",
        "    data['Sentence'] = data['Sentence'].replace('[a-zA-Z0-9-_.]+@[a-zA-Z0-9-_.]+', '', regex=True)                      # remove emails\n",
        "    data['Sentence'] = data['Sentence'].replace('((25[0-5]|2[0-4][0-9]|[01]?[0-9][0-9]?)(\\.|$)){4}', '', regex=True)    # remove IP address\n",
        "    data['Sentence'] = data['Sentence'].str.replace('[^\\w\\s]','')                                                       # remove special characters\n",
        "    data['Sentence'] = data['Sentence'].replace('\\d', '', regex=True)                                                   # remove numbers\n",
        "    for index, row in data.iterrows():\n",
        "        word_tokens = word_tokenize(row['Sentence'])\n",
        "        filtered_sent = [w for w in word_tokens if not w in stopwords.words('english')]\n",
        "        df_ = df_.append({\n",
        "            \"index\": row['index'],\n",
        "            \"Class\": row['Class'],\n",
        "            \"Sentence\": \" \".join(filtered_sent[0:])\n",
        "        }, ignore_index=True)\n",
        "    return data\n",
        "\n",
        "# If this is the primary file that is executed (ie not an import of another file)\n",
        "if __name__ == \"__main__\":\n",
        "    # get data, pre-process and split\n",
        "    data = pd.read_csv(\"train_sentences_100k.txt\", delimiter='\\t', header=None)\n",
        "    data.columns = ['Sentence', 'Class']\n",
        "    data['index'] = data.index                           # add new column index\n",
        "    columns = ['index', 'Class', 'Sentence']\n",
        "    data = preprocess_pandas(data, columns)              # pre-process\n",
        "    training_data, validation_data, training_labels, validation_labels = train_test_split( \n",
        "        # split the data into training, validation, and test splits\n",
        "        data['Sentence'].values.astype('U'),\n",
        "        data['Class'].values.astype('int32'),\n",
        "        test_size=0.1,\n",
        "        random_state=0,\n",
        "        shuffle=True\n",
        "    )\n",
        "\n",
        "    trainging_data_sentences = training_data\n",
        "    validation_data_sentences = validation_data\n",
        "    classes = training_labels\n",
        "    classes_validation = validation_labels\n",
        "    "
      ],
      "execution_count": null,
      "outputs": [
        {
          "output_type": "stream",
          "text": [
            "[nltk_data] Downloading collection 'popular'\n",
            "[nltk_data]    | \n",
            "[nltk_data]    | Downloading package cmudict to /root/nltk_data...\n",
            "[nltk_data]    |   Package cmudict is already up-to-date!\n",
            "[nltk_data]    | Downloading package gazetteers to /root/nltk_data...\n",
            "[nltk_data]    |   Package gazetteers is already up-to-date!\n",
            "[nltk_data]    | Downloading package genesis to /root/nltk_data...\n",
            "[nltk_data]    |   Package genesis is already up-to-date!\n",
            "[nltk_data]    | Downloading package gutenberg to /root/nltk_data...\n",
            "[nltk_data]    |   Package gutenberg is already up-to-date!\n",
            "[nltk_data]    | Downloading package inaugural to /root/nltk_data...\n",
            "[nltk_data]    |   Package inaugural is already up-to-date!\n",
            "[nltk_data]    | Downloading package movie_reviews to\n",
            "[nltk_data]    |     /root/nltk_data...\n",
            "[nltk_data]    |   Package movie_reviews is already up-to-date!\n",
            "[nltk_data]    | Downloading package names to /root/nltk_data...\n",
            "[nltk_data]    |   Package names is already up-to-date!\n",
            "[nltk_data]    | Downloading package shakespeare to /root/nltk_data...\n",
            "[nltk_data]    |   Package shakespeare is already up-to-date!\n",
            "[nltk_data]    | Downloading package stopwords to /root/nltk_data...\n",
            "[nltk_data]    |   Package stopwords is already up-to-date!\n",
            "[nltk_data]    | Downloading package treebank to /root/nltk_data...\n",
            "[nltk_data]    |   Package treebank is already up-to-date!\n",
            "[nltk_data]    | Downloading package twitter_samples to\n",
            "[nltk_data]    |     /root/nltk_data...\n",
            "[nltk_data]    |   Package twitter_samples is already up-to-date!\n",
            "[nltk_data]    | Downloading package omw to /root/nltk_data...\n",
            "[nltk_data]    |   Package omw is already up-to-date!\n",
            "[nltk_data]    | Downloading package wordnet to /root/nltk_data...\n",
            "[nltk_data]    |   Package wordnet is already up-to-date!\n",
            "[nltk_data]    | Downloading package wordnet_ic to /root/nltk_data...\n",
            "[nltk_data]    |   Package wordnet_ic is already up-to-date!\n",
            "[nltk_data]    | Downloading package words to /root/nltk_data...\n",
            "[nltk_data]    |   Package words is already up-to-date!\n",
            "[nltk_data]    | Downloading package maxent_ne_chunker to\n",
            "[nltk_data]    |     /root/nltk_data...\n",
            "[nltk_data]    |   Package maxent_ne_chunker is already up-to-date!\n",
            "[nltk_data]    | Downloading package punkt to /root/nltk_data...\n",
            "[nltk_data]    |   Package punkt is already up-to-date!\n",
            "[nltk_data]    | Downloading package snowball_data to\n",
            "[nltk_data]    |     /root/nltk_data...\n",
            "[nltk_data]    |   Package snowball_data is already up-to-date!\n",
            "[nltk_data]    | Downloading package averaged_perceptron_tagger to\n",
            "[nltk_data]    |     /root/nltk_data...\n",
            "[nltk_data]    |   Package averaged_perceptron_tagger is already up-\n",
            "[nltk_data]    |       to-date!\n",
            "[nltk_data]    | \n",
            "[nltk_data]  Done downloading collection popular\n"
          ],
          "name": "stdout"
        }
      ]
    },
    {
      "cell_type": "markdown",
      "metadata": {
        "id": "YU539YkeAgpH"
      },
      "source": [
        "The code below just initializes some things and turns the training and validation data into lists so that we can manipulate it further and to prepare it for tokenization. All of this code is very standard."
      ]
    },
    {
      "cell_type": "code",
      "metadata": {
        "id": "_6egj7p1AzyV"
      },
      "source": [
        "from collections import Counter\n",
        "train_sentences = trainging_data_sentences\n",
        "train_sentences = train_sentences.tolist()\n",
        "validation_sentences = validation_data_sentences\n",
        "validation_sentences = validation_sentences.tolist()\n",
        "words = Counter()  # Dictionary that keeps track of word count\n"
      ],
      "execution_count": null,
      "outputs": []
    },
    {
      "cell_type": "markdown",
      "metadata": {
        "id": "tjvIkkd3BeM3"
      },
      "source": [
        "The code below will tokenize the training sentences and count the number of times each word appears and map out the dictionary, containing all the words. Tokenizing means basically taking a list of sentences on the form ['This is a sentence', 'So is this '] and turning it into: [['This', 'is', 'a', 'sentence'], ['So', 'is', 'this']]. \n",
        "\n",
        "We then remove words that occur less than a defined number of times. This is because words that appear like only once are likely spelling mistakes, but even if they are not, we will not have seen the word enough to determine how to use it. Lastly we make mappings of all the words in our dictionary and wich index in the dictionary each word has, and then we map our training sentences to the dictionary so that each word in each sentence basically becomes a pointer to the vocabulary. If a word in the sentence is not in the dictionary we just map it to zero."
      ]
    },
    {
      "cell_type": "code",
      "metadata": {
        "id": "sPZ9c0-mFJUT"
      },
      "source": [
        "for i, sentence in enumerate(train_sentences):\n",
        "    #Stores sentences as tokens\n",
        "    train_sentences[i] = []\n",
        "    for word in nltk.word_tokenize(sentence):  # Tokenizing the words\n",
        "        words.update([word.lower()])\n",
        "        train_sentences[i].append(word)\n",
        "\n",
        "\n",
        "# Remove words that appear less than min_count times\n",
        "min_count = 1\n",
        "words = {i:j for i,j in words.items() if j>min_count}\n",
        "# Sort words by frequency\n",
        "words = sorted(words, key=words.get, reverse=True)\n",
        "# Add padding and unknown to words\n",
        "words = ['_PAD','_UNK'] + words\n",
        "# Word to index and vice versa\n",
        "word2idx = {o:i for i,o in enumerate(words)}\n",
        "idx2word = {i:o for i,o in enumerate(words)}\n",
        "\n",
        "for i, sentence in enumerate(train_sentences):\n",
        "    # Map senteces to the dictionary\n",
        "    train_sentences[i] = [word2idx[word] if word in word2idx else 0 for word in sentence]\n",
        "\n",
        "for i, sentence in enumerate(validation_sentences):\n",
        "    # For the validation sentences they must also be tokenized first\n",
        "    validation_sentences[i] = [word2idx[word.lower()] if word.lower() in word2idx else 0 for word in nltk.word_tokenize(sentence)]\n"
      ],
      "execution_count": null,
      "outputs": []
    },
    {
      "cell_type": "markdown",
      "metadata": {
        "id": "2-6p-uiLFmx4"
      },
      "source": [
        "Lastly we will pad the sentences if the are too short or cut them short if they are too long so that each input tensor is of the same length. We will then convert our lists into numpy arrays so that we can turn them into tensors and then load them using the loader functions from Pytorch which will be useful in training because it very easily allows us to shuffle the order and do various other things."
      ]
    },
    {
      "cell_type": "code",
      "metadata": {
        "id": "HzbbxZ0XGP4j"
      },
      "source": [
        "# Function to makes sentances the correct length by padding or cutting them short\n",
        "def pad(sentences, seq_len):\n",
        "    features = np.zeros((len(sentences), seq_len),dtype=int)\n",
        "    for i, review in enumerate(sentences):\n",
        "        if len(review) != 0:\n",
        "            features[i, -len(review):] = np.array(review)[:seq_len]\n",
        "    return features\n",
        "\n",
        "seq_len = 200  # The length that the sentences will be padded/shortened to\n",
        "\n",
        "train_sentences = pad(train_sentences, seq_len)\n",
        "val_sentences = pad(validation_sentences, seq_len)\n",
        "\n",
        "# Converting labels into numpy arrays\n",
        "train_labels = np.array(classes)\n",
        "val_labels = np.array(classes_validation)\n",
        "\n",
        "split_frac = 0.5 # 50% validation, 50% test\n",
        "split_id = int(split_frac * len(val_sentences))\n",
        "val_sentences, test_sentences = val_sentences[:split_id], val_sentences[split_id:]\n",
        "val_labels, test_labels = val_labels[:split_id], val_labels[split_id:]\n",
        "\n",
        "from torch.utils.data import TensorDataset, DataLoader\n",
        "train_data = TensorDataset(torch.from_numpy(train_sentences), torch.from_numpy(train_labels))\n",
        "val_data = TensorDataset(torch.from_numpy(val_sentences), torch.from_numpy(val_labels))\n",
        "test_data = TensorDataset(torch.from_numpy(test_sentences), torch.from_numpy(test_labels))\n",
        "\n",
        "batch_size = 100\n",
        "\n",
        "train_loader = DataLoader(train_data, shuffle=True, batch_size=batch_size, drop_last= True)\n",
        "val_loader = DataLoader(val_data, shuffle=True, batch_size=batch_size, drop_last = True)\n",
        "test_loader = DataLoader(test_data, shuffle=True, batch_size=batch_size, drop_last = True)"
      ],
      "execution_count": null,
      "outputs": []
    },
    {
      "cell_type": "markdown",
      "metadata": {
        "id": "KLkUd3U5HI1d"
      },
      "source": [
        "The code below is code for the LSTM network that I basically just copy pasted from the end of this link: https://blog.floydhub.com/long-short-term-memory-from-zero-to-hero-with-pytorch/. Although I have changed the validation part of the code to get an accuracy percentage. This link has very good info on LSTM networks in general and also contains links to the \"Kaggle\" datasest of 3.6M Amazon reviews."
      ]
    },
    {
      "cell_type": "code",
      "metadata": {
        "id": "vrkeKO8yHk3p",
        "outputId": "82905f70-00c5-40c5-92d2-485dd351a89f",
        "colab": {
          "base_uri": "https://localhost:8080/",
          "height": 495
        }
      },
      "source": [
        "from matplotlib import pyplot as plt\n",
        "import time\n",
        "# torch.cuda.is_available() checks and returns a Boolean True if a GPU is available, else it'll return False\n",
        "is_cuda = torch.cuda.is_available()\n",
        "\n",
        "# If we have a GPU available, we'll set our device to GPU. We'll use this device variable later in our code.\n",
        "if is_cuda:\n",
        "    device = torch.device(\"cuda\")\n",
        "else:\n",
        "    device = torch.device(\"cpu\")\n",
        "    \n",
        "class SentimentNet(nn.Module):\n",
        "    def __init__(self, vocab_size, output_size, embedding_dim, hidden_dim, n_layers, drop_prob=0.5):\n",
        "        super(SentimentNet, self).__init__()\n",
        "        self.output_size = output_size\n",
        "        self.n_layers = n_layers\n",
        "        self.hidden_dim = hidden_dim\n",
        "        \n",
        "        self.embedding = nn.Embedding(vocab_size, embedding_dim)\n",
        "        self.lstm = nn.LSTM(embedding_dim, hidden_dim, n_layers, dropout=drop_prob, batch_first=True)\n",
        "        self.dropout = nn.Dropout(drop_prob)\n",
        "        self.fc = nn.Linear(hidden_dim, output_size)\n",
        "        self.sigmoid = nn.Sigmoid()\n",
        "        \n",
        "    def forward(self, x, hidden):\n",
        "        batch_size = x.size(0)\n",
        "        x = x.long()\n",
        "        embeds = self.embedding(x)\n",
        "        lstm_out, hidden = self.lstm(embeds, hidden)\n",
        "        lstm_out = lstm_out.contiguous().view(-1, self.hidden_dim)\n",
        "        \n",
        "        out = self.dropout(lstm_out)\n",
        "        out = self.fc(out)\n",
        "        out = self.sigmoid(out)\n",
        "        \n",
        "        out = out.view(batch_size, -1)\n",
        "        out = out[:,-1]\n",
        "        return out, hidden\n",
        "    \n",
        "    def init_hidden(self, batch_size):\n",
        "        weight = next(self.parameters()).data\n",
        "        hidden = (weight.new(self.n_layers, batch_size, self.hidden_dim).zero_().to(device),\n",
        "                      weight.new(self.n_layers, batch_size, self.hidden_dim).zero_().to(device))\n",
        "        return hidden\n",
        "\n",
        "vocab_size = len(word2idx) + 1\n",
        "output_size = 1\n",
        "embedding_dim = 256\n",
        "hidden_dim = 200\n",
        "n_layers = 2\n",
        "\n",
        "model = SentimentNet(vocab_size, output_size, embedding_dim, hidden_dim, n_layers)\n",
        "model.to(device)\n",
        "\n",
        "lr= 0.00005\n",
        "criterion = nn.BCELoss()\n",
        "optimizer = torch.optim.Adam(model.parameters(), lr=lr)\n",
        "scheduler = torch.optim.lr_scheduler.ReduceLROnPlateau(optimizer,mode='min',factor=0.5, patience=1,verbose=True)\n",
        "epochs = 50\n",
        "counter = 0\n",
        "clip = 5\n",
        "valid_loss_min = np.Inf\n",
        "early_stop_epochs = 3\n",
        "accuracy = []\n",
        "batch_train_loss = []\n",
        "batch_val_loss = []\n",
        "batch_train_accuracy = []\n",
        "batch_val_accuracy = []\n",
        "def model_train(epochs, lr, criterion, optimizer, clip):\n",
        "    start_time = time.time()\n",
        "    batch_counter_train = 0\n",
        "    batch_counter_val = 0\n",
        "    last_improved = 0\n",
        "    valid_loss_min = np.Inf\n",
        "    model.train()\n",
        "    for i in range(epochs):\n",
        "        running_loss_train = []\n",
        "        running_loss_val = []\n",
        "        running_accuracy_train = []\n",
        "        running_accuracy_val = []\n",
        "        if i - last_improved > early_stop_epochs-1:\n",
        "            print('Early stop due to overfitting!')\n",
        "            break\n",
        "        h = model.init_hidden(batch_size)  \n",
        "        for inputs, labels in train_loader:\n",
        "            batch_counter_train += 1\n",
        "            h = tuple([each.data for each in h])\n",
        "            inputs, labels = inputs.to(device), labels.to(device)\n",
        "            model.zero_grad()\n",
        "            output, h = model(inputs, h)\n",
        "            pred = torch.round(output.squeeze())\n",
        "            correct_tensor = pred.eq(labels.float().view_as(pred))\n",
        "            correct = np.squeeze(correct_tensor.cpu().numpy())\n",
        "            loss = criterion(output.squeeze(), labels.float())\n",
        "            running_accuracy_train.append(np.sum(correct))\n",
        "            running_loss_train.append(loss.item())\n",
        "            loss.backward()\n",
        "            nn.utils.clip_grad_norm_(model.parameters(), clip)\n",
        "            optimizer.step()\n",
        "            if batch_counter_train % 50 == 0:\n",
        "              batch_train_loss.append(np.mean(running_loss_train))\n",
        "              batch_train_accuracy.append(np.mean(running_accuracy_train))\n",
        "              running_loss_train = []\n",
        "              running_accuracy_train = []\n",
        "              batch_counter_train = 0\n",
        "\n",
        "\n",
        "              model.eval()\n",
        "              valid_losses = []\n",
        "              v_h = model.init_hidden(batch_size)\n",
        "              \n",
        "              for inp, lab in val_loader:\n",
        "                  batch_counter_val += 1\n",
        "                  v_h = tuple([each.data for each in v_h])\n",
        "                  inp, lab = inp.to(device), lab.to(device)\n",
        "                  output, v_h = model(inp, v_h)\n",
        "                  pred = torch.round(output.squeeze())\n",
        "                  correct_tensor = pred.eq(lab.float().view_as(pred))\n",
        "                  correct = np.squeeze(correct_tensor.cpu().numpy())\n",
        "                  val_loss = criterion(output.squeeze(), lab.float())\n",
        "                  valid_losses.append(val_loss.item())\n",
        "                  running_loss_val.append(val_loss.item())\n",
        "                  running_accuracy_val.append(np.sum(correct))\n",
        "              batch_val_loss.append(np.mean(running_loss_val))\n",
        "              batch_val_accuracy.append(np.mean(running_accuracy_val))\n",
        "              running_loss_val = []\n",
        "              running_accuracy_val = []\n",
        "   \n",
        "\n",
        "            model.train()\n",
        "        print('Epoch {} - Training loss: {} - Validation loss: {}'.format(i+1,loss, np.mean(valid_losses)))\n",
        "        #If validation loss decreased save model state\n",
        "        if  np.mean(valid_losses) < valid_loss_min:\n",
        "            last_improved = i\n",
        "            torch.save(model.state_dict(), './state_dict.pt')\n",
        "            print('Minimum validation loss decreased from {:.6f} to {:.6f}. Saving new best model....'.format(valid_loss_min, np.mean(valid_losses)))\n",
        "            valid_loss_min = np.mean(valid_losses)\n",
        "        '''\n",
        "        epoch_train_loss.append(loss)\n",
        "        epoch_val_loss.append(np.mean(valid_losses))\n",
        "        epoch_train_accuracy.append(100*running_accuracy_train/len(train_loader.dataset))\n",
        "        epoch_val_accuracy.append(100*running_accuracy_val/len(val_loader.dataset))\n",
        "        scheduler.step(loss)\n",
        "        '''\n",
        "        print(\"--- %s seconds ---\" % (time.time() - start_time))\n",
        "        scheduler.step(loss)\n",
        "def model_test():\n",
        "    accuracy = []\n",
        "    # Load the best model\n",
        "    model.load_state_dict(torch.load('./state_dict.pt'))\n",
        "    h = model.init_hidden(batch_size)\n",
        "    num_correct = 0\n",
        "    #Test model on the test set\n",
        "    model.eval()\n",
        "    for inp, lab in test_loader:\n",
        "        h = tuple([each.data for each in h])\n",
        "        inp, lab = inp.to(device), lab.to(device)\n",
        "        output, h = model(inp, h)\n",
        "        pred = torch.round(output.squeeze())  # Rounds the output to 0/1\n",
        "        correct_tensor = pred.eq(lab.float().view_as(pred))\n",
        "        correct = np.squeeze(correct_tensor.cpu().numpy())\n",
        "        num_correct += np.sum(correct)\n",
        "    print('Model accuracy is {}%'.format(100*num_correct/len(test_loader.dataset)))\n",
        "\n",
        "# Function to feed user input into the network\n",
        "def predict_on_input(input_seq):\n",
        "    model.load_state_dict(torch.load('./state_dict.pt'))\n",
        "    outlist = []\n",
        "    for teststr in input_seq:\n",
        "        inp = [word2idx[word.lower()] if word.lower() in word2idx else 0 for word in nltk.word_tokenize(str(teststr))]\n",
        "        inp = pad([inp],seq_len)\n",
        "        input_tensor = torch.from_numpy(inp).to(device)\n",
        "        model.eval()\n",
        "        h = model.init_hidden(1)\n",
        "        output, h = model(input_tensor, h)\n",
        "        pred = int(torch.round(output.squeeze()))\n",
        "        outlist.append(pred)\n",
        "    return outlist\n",
        "train_model = True\n",
        "\n",
        "inp_sentences = ['This AI is very good', 'I find this AI is ok', 'This AI is not good']\n",
        "\n",
        "if train_model:\n",
        "    model_train(epochs, lr, criterion, optimizer, clip)\n",
        "    model_test()\n",
        "\n",
        "\n",
        "print(predict_on_input(inp_sentences))\n",
        "\n",
        "      \n"
      ],
      "execution_count": null,
      "outputs": [
        {
          "output_type": "stream",
          "text": [
            "Epoch 1 - Training loss: 0.32216086983680725 - Validation loss: 0.4486430573220156\n",
            "Minimum validation loss decreased from inf to 0.448643. Saving new best model....\n",
            "--- 143.20453333854675 seconds ---\n",
            "Epoch 2 - Training loss: 0.4165946841239929 - Validation loss: 0.3723735918804091\n",
            "Minimum validation loss decreased from 0.448643 to 0.372374. Saving new best model....\n",
            "--- 287.93575048446655 seconds ---\n",
            "Epoch 3 - Training loss: 0.24301427602767944 - Validation loss: 0.3259218712242282\n",
            "Minimum validation loss decreased from 0.372374 to 0.325922. Saving new best model....\n",
            "--- 432.58471512794495 seconds ---\n",
            "Epoch 4 - Training loss: 0.18852035701274872 - Validation loss: 0.3024406125959085\n",
            "Minimum validation loss decreased from 0.325922 to 0.302441. Saving new best model....\n",
            "--- 577.2905113697052 seconds ---\n",
            "Epoch 5 - Training loss: 0.24833868443965912 - Validation loss: 0.2873943992415253\n",
            "Minimum validation loss decreased from 0.302441 to 0.287394. Saving new best model....\n",
            "--- 722.0787878036499 seconds ---\n",
            "Epoch 6 - Training loss: 0.2850034236907959 - Validation loss: 0.2620138282678565\n",
            "Minimum validation loss decreased from 0.287394 to 0.262014. Saving new best model....\n",
            "--- 866.8704178333282 seconds ---\n",
            "Epoch     5: reducing learning rate of group 0 to 2.5000e-05.\n",
            "Epoch 7 - Training loss: 0.16940496861934662 - Validation loss: 0.2968765512412908\n",
            "--- 1011.6606693267822 seconds ---\n",
            "Epoch 8 - Training loss: 0.2334846705198288 - Validation loss: 0.262766285058187\n",
            "--- 1156.4609022140503 seconds ---\n",
            "Early stop due to overfitting!\n",
            "Model accuracy is 89.22%\n",
            "[1, 0, 0]\n"
          ],
          "name": "stdout"
        }
      ]
    },
    {
      "cell_type": "code",
      "metadata": {
        "id": "IbdNhPUUwu4A",
        "outputId": "a42341dc-69e5-484c-f00e-ab0b2a07961a",
        "colab": {
          "base_uri": "https://localhost:8080/",
          "height": 559
        }
      },
      "source": [
        "from google.colab import files\n",
        "ran = np.linspace(0,8,143)\n",
        "plt.figure(1)\n",
        "plt.plot(ran,batch_train_loss,'r--',label='Training Loss')\n",
        "plt.plot(ran,batch_val_loss, label = 'Validation Loss')\n",
        "plt.legend()\n",
        "plt.xlabel('x - Epoch')\n",
        "plt.ylabel('y - Loss')\n",
        "plt.savefig(\"loss.png\")\n",
        "files.download(\"loss.png\") \n",
        "\n",
        "plt.figure(2)\n",
        "plt.plot(ran,batch_train_accuracy,'r--', label = 'Training Accuracy')\n",
        "plt.plot(ran,batch_val_accuracy, label = 'Validation Accuracy')\n",
        "plt.legend()\n",
        "plt.xlabel('x - Epoch')\n",
        "plt.ylabel('y - Accuracy %')\n",
        "plt.savefig(\"val.png\")\n",
        "files.download(\"val.png\") \n",
        "\n",
        "def predict_on_input(input_seq):\n",
        "    model.load_state_dict(torch.load('./state_dict.pt'))\n",
        "    outlist = []\n",
        "    for teststr in input_seq:\n",
        "        inp = [word2idx[word.lower()] if word.lower() in word2idx else 0 for word in nltk.word_tokenize(str(teststr))]\n",
        "        inp = pad([inp],seq_len)\n",
        "        input_tensor = torch.from_numpy(inp).to(device)\n",
        "        model.eval()\n",
        "        h = model.init_hidden(1)\n",
        "        output, h = model(input_tensor, h)\n",
        "        pred = float(output.squeeze())\n",
        "        outlist.append(pred)\n",
        "    return outlist\n",
        "inp_sentences = ['The performance of this network was not bad!', 'I like this network, but the accuracy is the worst', 'The training time for this network is very bad, but the accuracy is the best!']\n",
        "print(predict_on_input(inp_sentences))"
      ],
      "execution_count": null,
      "outputs": [
        {
          "output_type": "stream",
          "text": [
            "[0.1641048789024353, 0.3498847782611847, 0.330980509519577]\n"
          ],
          "name": "stdout"
        },
        {
          "output_type": "display_data",
          "data": {
            "image/png": "[encoded data removed]",
            "text/plain": [
              "<Figure size 432x288 with 1 Axes>"
            ]
          },
          "metadata": {
            "tags": []
          }
        },
        {
          "output_type": "display_data",
          "data": {
            "image/png": "[encoded data removed]",
            "text/plain": [
              "<Figure size 432x288 with 1 Axes>"
            ]
          },
          "metadata": {
            "tags": []
          }
        }
      ]
    }
  ]
}